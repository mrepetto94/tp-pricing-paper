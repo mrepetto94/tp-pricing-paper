{
 "cells": [
  {
   "cell_type": "markdown",
   "metadata": {},
   "source": [
    "# Models presented in the paper\n",
    "## Preamble\n",
    "In the following section we present the main functions and data used in this notebook\n",
    "### Evaluate\n",
    "The evaluate function serves to compute the different tax base used in order to test the intercompany transaction"
   ]
  },
  {
   "cell_type": "code",
   "execution_count": 1,
   "metadata": {},
   "outputs": [
    {
     "data": {
      "text/plain": [
       "evaluate (generic function with 1 method)"
      ]
     },
     "execution_count": 1,
     "metadata": {},
     "output_type": "execute_result"
    }
   ],
   "source": [
    "function evaluate(base,fun,fcost,vcost,N,P) \n",
    "    if fun == \"manufacturer\"\n",
    "        return (fcost + (N*vcost))\n",
    "    elseif fun == \"distributor\"\n",
    "        return (N*P)\n",
    "    else\n",
    "        return base\n",
    "    end\n",
    "end"
   ]
  },
  {
   "cell_type": "markdown",
   "metadata": {},
   "source": [
    "### Robustify"
   ]
  },
  {
   "cell_type": "markdown",
   "metadata": {},
   "source": [
    "The robustify function serves as a function to allow for higher penalty in order to implement the robust goal programming in a worst-case scenario environment "
   ]
  },
  {
   "cell_type": "code",
   "execution_count": 2,
   "metadata": {},
   "outputs": [
    {
     "data": {
      "text/plain": [
       "robustify (generic function with 1 method)"
      ]
     },
     "execution_count": 2,
     "metadata": {},
     "output_type": "execute_result"
    }
   ],
   "source": [
    "function robustify(coefficients, deviation)\n",
    "    return convert(Matrix,coefficients) .* convert(Matrix,deviation)\n",
    "end"
   ]
  },
  {
   "cell_type": "markdown",
   "metadata": {},
   "source": [
    "### Packages used\n",
    "The following packages where used"
   ]
  },
  {
   "cell_type": "code",
   "execution_count": 3,
   "metadata": {},
   "outputs": [],
   "source": [
    "using CSV;\n",
    "using DataFrames;\n",
    "using Plots; pyplot();"
   ]
  },
  {
   "cell_type": "code",
   "execution_count": 4,
   "metadata": {},
   "outputs": [],
   "source": [
    "using vOptGeneric;\n",
    "using JuMP;"
   ]
  },
  {
   "cell_type": "code",
   "execution_count": 5,
   "metadata": {},
   "outputs": [],
   "source": [
    "using Clp;\n",
    "using GLPK;\n",
    "using GLPKMathProgInterface;\n",
    "using Ipopt;"
   ]
  },
  {
   "cell_type": "markdown",
   "metadata": {},
   "source": [
    "for most of the graphics"
   ]
  },
  {
   "cell_type": "code",
   "execution_count": 6,
   "metadata": {},
   "outputs": [],
   "source": [
    "using RCall"
   ]
  },
  {
   "cell_type": "markdown",
   "metadata": {},
   "source": [
    "## Data used"
   ]
  },
  {
   "cell_type": "code",
   "execution_count": 7,
   "metadata": {},
   "outputs": [],
   "source": [
    "dt = CSV.read(\"data/overall.csv\");\n",
    "dtf = CSV.read(\"data/entities.csv\"); #fetch the data from the .csv\n",
    "dtfdev = CSV.read(\"data/deviations.csv\"); #fetch the data from the .csv"
   ]
  },
  {
   "cell_type": "markdown",
   "metadata": {},
   "source": [
    "dt contains"
   ]
  },
  {
   "cell_type": "code",
   "execution_count": 8,
   "metadata": {},
   "outputs": [
    {
     "data": {
      "text/html": [
       "<table class=\"data-frame\"><thead><tr><th></th><th>nitems</th><th>price</th><th>taxgoal</th></tr><tr><th></th><th>Float64</th><th>Float64</th><th>Float64</th></tr></thead><tbody><p>1 rows × 3 columns</p><tr><th>1</th><td>1.0e6</td><td>61.2</td><td>0.1</td></tr></tbody></table>"
      ],
      "text/latex": [
       "\\begin{tabular}{r|ccc}\n",
       "\t& nitems & price & taxgoal\\\\\n",
       "\t\\hline\n",
       "\t& Float64 & Float64 & Float64\\\\\n",
       "\t\\hline\n",
       "\t1 & 1.0e6 & 61.2 & 0.1 \\\\\n",
       "\\end{tabular}\n"
      ],
      "text/plain": [
       "1×3 DataFrame\n",
       "│ Row │ nitems  │ price   │ taxgoal │\n",
       "│     │ \u001b[90mFloat64\u001b[39m │ \u001b[90mFloat64\u001b[39m │ \u001b[90mFloat64\u001b[39m │\n",
       "├─────┼─────────┼─────────┼─────────┤\n",
       "│ 1   │ 1.0e6   │ 61.2    │ 0.1     │"
      ]
     },
     "execution_count": 8,
     "metadata": {},
     "output_type": "execute_result"
    }
   ],
   "source": [
    "dt"
   ]
  },
  {
   "cell_type": "markdown",
   "metadata": {},
   "source": [
    "dtf contains"
   ]
  },
  {
   "cell_type": "code",
   "execution_count": 9,
   "metadata": {},
   "outputs": [
    {
     "data": {
      "text/html": [
       "<table class=\"data-frame\"><thead><tr><th></th><th>id</th><th>function</th><th>base</th><th>tax</th><th>vcost</th><th>fcost</th><th>duties</th><th>mgoal</th><th>lquartile</th></tr><tr><th></th><th>Int64</th><th>String</th><th>Float64</th><th>Float64</th><th>Float64</th><th>Float64</th><th>Float64</th><th>Float64</th><th>Float64</th></tr></thead><tbody><p>3 rows × 11 columns (omitted printing of 2 columns)</p><tr><th>1</th><td>1</td><td>manufacturer</td><td>0.0</td><td>0.25</td><td>23.75</td><td>811800.0</td><td>0.15</td><td>3.2</td><td>0.04</td></tr><tr><th>2</th><td>2</td><td>distributor</td><td>0.0</td><td>0.3</td><td>11.3</td><td>35700.0</td><td>0.0</td><td>2.8</td><td>0.01</td></tr><tr><th>3</th><td>3</td><td>principal</td><td>6.759e7</td><td>0.125</td><td>16.8</td><td>171000.0</td><td>0.0</td><td>5.1</td><td>0.02</td></tr></tbody></table>"
      ],
      "text/latex": [
       "\\begin{tabular}{r|cccccccccc}\n",
       "\t& id & function & base & tax & vcost & fcost & duties & mgoal & lquartile & \\\\\n",
       "\t\\hline\n",
       "\t& Int64 & String & Float64 & Float64 & Float64 & Float64 & Float64 & Float64 & Float64 & \\\\\n",
       "\t\\hline\n",
       "\t1 & 1 & manufacturer & 0.0 & 0.25 & 23.75 & 811800.0 & 0.15 & 3.2 & 0.04 & $\\dots$ \\\\\n",
       "\t2 & 2 & distributor & 0.0 & 0.3 & 11.3 & 35700.0 & 0.0 & 2.8 & 0.01 & $\\dots$ \\\\\n",
       "\t3 & 3 & principal & 6.759e7 & 0.125 & 16.8 & 171000.0 & 0.0 & 5.1 & 0.02 & $\\dots$ \\\\\n",
       "\\end{tabular}\n"
      ],
      "text/plain": [
       "3×11 DataFrame. Omitted printing of 5 columns\n",
       "│ Row │ id    │ function     │ base    │ tax     │ vcost   │ fcost    │\n",
       "│     │ \u001b[90mInt64\u001b[39m │ \u001b[90mString\u001b[39m       │ \u001b[90mFloat64\u001b[39m │ \u001b[90mFloat64\u001b[39m │ \u001b[90mFloat64\u001b[39m │ \u001b[90mFloat64\u001b[39m  │\n",
       "├─────┼───────┼──────────────┼─────────┼─────────┼─────────┼──────────┤\n",
       "│ 1   │ 1     │ manufacturer │ 0.0     │ 0.25    │ 23.75   │ 811800.0 │\n",
       "│ 2   │ 2     │ distributor  │ 0.0     │ 0.3     │ 11.3    │ 35700.0  │\n",
       "│ 3   │ 3     │ principal    │ 6.759e7 │ 0.125   │ 16.8    │ 171000.0 │"
      ]
     },
     "execution_count": 9,
     "metadata": {},
     "output_type": "execute_result"
    }
   ],
   "source": [
    "dtf"
   ]
  },
  {
   "cell_type": "markdown",
   "metadata": {},
   "source": [
    "dtfdev contains"
   ]
  },
  {
   "cell_type": "code",
   "execution_count": 10,
   "metadata": {},
   "outputs": [
    {
     "data": {
      "text/html": [
       "<table class=\"data-frame\"><thead><tr><th></th><th>id</th><th>tax</th><th>duties</th><th>lquartile</th><th>median</th><th>uquartile</th></tr><tr><th></th><th>Int64</th><th>Float64</th><th>Float64</th><th>Float64</th><th>Float64</th><th>Float64</th></tr></thead><tbody><p>3 rows × 6 columns</p><tr><th>1</th><td>1</td><td>0.05</td><td>0.5</td><td>0.15</td><td>0.15</td><td>0.15</td></tr><tr><th>2</th><td>2</td><td>0.1</td><td>0.0</td><td>0.12</td><td>0.12</td><td>0.12</td></tr><tr><th>3</th><td>3</td><td>0.2</td><td>0.0</td><td>0.21</td><td>0.21</td><td>0.21</td></tr></tbody></table>"
      ],
      "text/latex": [
       "\\begin{tabular}{r|cccccc}\n",
       "\t& id & tax & duties & lquartile & median & uquartile\\\\\n",
       "\t\\hline\n",
       "\t& Int64 & Float64 & Float64 & Float64 & Float64 & Float64\\\\\n",
       "\t\\hline\n",
       "\t1 & 1 & 0.05 & 0.5 & 0.15 & 0.15 & 0.15 \\\\\n",
       "\t2 & 2 & 0.1 & 0.0 & 0.12 & 0.12 & 0.12 \\\\\n",
       "\t3 & 3 & 0.2 & 0.0 & 0.21 & 0.21 & 0.21 \\\\\n",
       "\\end{tabular}\n"
      ],
      "text/plain": [
       "3×6 DataFrame\n",
       "│ Row │ id    │ tax     │ duties  │ lquartile │ median  │ uquartile │\n",
       "│     │ \u001b[90mInt64\u001b[39m │ \u001b[90mFloat64\u001b[39m │ \u001b[90mFloat64\u001b[39m │ \u001b[90mFloat64\u001b[39m   │ \u001b[90mFloat64\u001b[39m │ \u001b[90mFloat64\u001b[39m   │\n",
       "├─────┼───────┼─────────┼─────────┼───────────┼─────────┼───────────┤\n",
       "│ 1   │ 1     │ 0.05    │ 0.5     │ 0.15      │ 0.15    │ 0.15      │\n",
       "│ 2   │ 2     │ 0.1     │ 0.0     │ 0.12      │ 0.12    │ 0.12      │\n",
       "│ 3   │ 3     │ 0.2     │ 0.0     │ 0.21      │ 0.21    │ 0.21      │"
      ]
     },
     "execution_count": 10,
     "metadata": {},
     "output_type": "execute_result"
    }
   ],
   "source": [
    "dtfdev"
   ]
  },
  {
   "cell_type": "markdown",
   "metadata": {},
   "source": [
    "From the data files we get the variables as below"
   ]
  },
  {
   "cell_type": "code",
   "execution_count": 11,
   "metadata": {},
   "outputs": [],
   "source": [
    "q = size(dtf)[1]; #number of decision variables"
   ]
  },
  {
   "cell_type": "code",
   "execution_count": 12,
   "metadata": {},
   "outputs": [],
   "source": [
    "N     = dt[:,:nitems][1]; #number of pieces\n",
    "P     = dt[:,:price][1]; #price\n",
    "tgoal = dt[:,:taxgoal][1];"
   ]
  },
  {
   "cell_type": "code",
   "execution_count": 13,
   "metadata": {},
   "outputs": [],
   "source": [
    "tax    = dtf[:,:tax];\n",
    "fun    = dtf[:,:function];\n",
    "base   = dtf[:,:base];\n",
    "fcost  = dtf[:,:fcost];\n",
    "vcost  = dtf[:,:vcost];\n",
    "lq     = dtf[:,:lquartile];\n",
    "mq     = dtf[:,:median];\n",
    "uq     = dtf[:,:uquartile];\n",
    "mgoal  = dtf[:,:mgoal];\n",
    "duties = dtf[:,:duties];"
   ]
  },
  {
   "cell_type": "markdown",
   "metadata": {},
   "source": [
    "more specifically"
   ]
  },
  {
   "cell_type": "code",
   "execution_count": 14,
   "metadata": {},
   "outputs": [],
   "source": [
    "rbi = filter(x -> x != :id, names(dtfdev)); #create the index of the robust coefficients\n",
    "\n",
    "θ = robustify(dtf[:,rbi],dtfdev[:,rbi]);\n",
    "δ = 2.50;\n",
    "tgoal = ((N*P)-sum(((fcost)+(N.*vcost)).*(ones(3) + duties)))*tgoal;\n",
    "\n",
    "\n",
    "for i = 1:q #create the BASE\n",
    "    base[i] = evaluate(base[i],fun[i],fcost[i],vcost[i],N,P)\n",
    "end"
   ]
  },
  {
   "cell_type": "markdown",
   "metadata": {},
   "source": [
    "The coefficients subject to robustness are highlithed below "
   ]
  },
  {
   "cell_type": "code",
   "execution_count": 15,
   "metadata": {},
   "outputs": [
    {
     "data": {
      "text/plain": [
       "5-element Array{Symbol,1}:\n",
       " :tax      \n",
       " :duties   \n",
       " :lquartile\n",
       " :median   \n",
       " :uquartile"
      ]
     },
     "execution_count": 15,
     "metadata": {},
     "output_type": "execute_result"
    }
   ],
   "source": [
    "rbi"
   ]
  },
  {
   "cell_type": "markdown",
   "metadata": {},
   "source": [
    "result of the robustification (noise matrix in the paper)"
   ]
  },
  {
   "cell_type": "code",
   "execution_count": 16,
   "metadata": {},
   "outputs": [
    {
     "data": {
      "text/plain": [
       "3×5 Array{Float64,2}:\n",
       " 0.0125  0.075  0.006   0.012   0.021 \n",
       " 0.03    0.0    0.0012  0.0024  0.006 \n",
       " 0.025   0.0    0.0042  0.0147  0.0294"
      ]
     },
     "execution_count": 16,
     "metadata": {},
     "output_type": "execute_result"
    }
   ],
   "source": [
    "θ"
   ]
  },
  {
   "cell_type": "markdown",
   "metadata": {},
   "source": [
    "The tax base minimization objective"
   ]
  },
  {
   "cell_type": "code",
   "execution_count": 17,
   "metadata": {},
   "outputs": [
    {
     "data": {
      "text/plain": [
       "464723.0"
      ]
     },
     "execution_count": 17,
     "metadata": {},
     "output_type": "execute_result"
    }
   ],
   "source": [
    "tgoal"
   ]
  },
  {
   "cell_type": "markdown",
   "metadata": {},
   "source": [
    "The different base where to test the arm's lenght transaction"
   ]
  },
  {
   "cell_type": "code",
   "execution_count": 18,
   "metadata": {},
   "outputs": [
    {
     "data": {
      "text/plain": [
       "3-element Array{Float64,1}:\n",
       " 2.45618e7\n",
       " 6.12e7   \n",
       " 6.759e7  "
      ]
     },
     "execution_count": 18,
     "metadata": {},
     "output_type": "execute_result"
    }
   ],
   "source": [
    "base"
   ]
  },
  {
   "cell_type": "markdown",
   "metadata": {},
   "source": [
    "first parametrization"
   ]
  },
  {
   "cell_type": "code",
   "execution_count": 19,
   "metadata": {},
   "outputs": [],
   "source": [
    "w = (0.25,0.5,0.25); #weight vector\n",
    "ρ = (0.0,0.0,0.0); #robustness vector"
   ]
  },
  {
   "cell_type": "markdown",
   "metadata": {},
   "source": [
    "### Data used in weight and robust sensitivity"
   ]
  },
  {
   "cell_type": "markdown",
   "metadata": {},
   "source": [
    "Rhocb contains the combination of the robust parameter used for the robust sensitivity analysis"
   ]
  },
  {
   "cell_type": "code",
   "execution_count": 20,
   "metadata": {},
   "outputs": [
    {
     "data": {
      "text/plain": [
       "64×3 Array{Float64,2}:\n",
       " 0.0  0.0  0.0\n",
       " 0.0  0.0  1.0\n",
       " 0.0  0.0  2.0\n",
       " 0.0  0.0  3.0\n",
       " 0.0  1.0  0.0\n",
       " 0.0  1.0  1.0\n",
       " 0.0  1.0  2.0\n",
       " 0.0  1.0  3.0\n",
       " 0.0  2.0  0.0\n",
       " 0.0  2.0  1.0\n",
       " 0.0  2.0  2.0\n",
       " 0.0  2.0  3.0\n",
       " 0.0  3.0  0.0\n",
       " ⋮            \n",
       " 3.0  1.0  0.0\n",
       " 3.0  1.0  1.0\n",
       " 3.0  1.0  2.0\n",
       " 3.0  1.0  3.0\n",
       " 3.0  2.0  0.0\n",
       " 3.0  2.0  1.0\n",
       " 3.0  2.0  2.0\n",
       " 3.0  2.0  3.0\n",
       " 3.0  3.0  0.0\n",
       " 3.0  3.0  1.0\n",
       " 3.0  3.0  2.0\n",
       " 3.0  3.0  3.0"
      ]
     },
     "execution_count": 20,
     "metadata": {},
     "output_type": "execute_result"
    }
   ],
   "source": [
    "rhocb = CSV.read(\"data/rho_permutations.csv\");\n",
    "rhocb = convert(Matrix{Float64},rhocb)"
   ]
  },
  {
   "cell_type": "markdown",
   "metadata": {},
   "source": [
    "w contains the combinations of weights used for the weight sensitivity analysis"
   ]
  },
  {
   "cell_type": "code",
   "execution_count": 21,
   "metadata": {},
   "outputs": [
    {
     "data": {
      "text/plain": [
       "21×3 Array{Float64,2}:\n",
       " 0.0        0.5        0.5      \n",
       " 0.166667   0.416667   0.416667 \n",
       " 0.333333   0.333333   0.333333 \n",
       " 0.5        0.25       0.25     \n",
       " 0.666667   0.166667   0.166667 \n",
       " 0.833333   0.0833333  0.0833333\n",
       " 1.0        0.0        0.0      \n",
       " 0.5        0.0        0.5      \n",
       " 0.416667   0.166667   0.416667 \n",
       " 0.333333   0.333333   0.333333 \n",
       " 0.25       0.5        0.25     \n",
       " 0.166667   0.666667   0.166667 \n",
       " 0.0833333  0.833333   0.0833333\n",
       " 0.0        1.0        0.0      \n",
       " 0.5        0.5        0.0      \n",
       " 0.416667   0.416667   0.166667 \n",
       " 0.333333   0.333333   0.333333 \n",
       " 0.25       0.25       0.5      \n",
       " 0.166667   0.166667   0.666667 \n",
       " 0.0833333  0.0833333  0.833333 \n",
       " 0.0        0.0        1.0      "
      ]
     },
     "execution_count": 21,
     "metadata": {},
     "output_type": "execute_result"
    }
   ],
   "source": [
    "### Weight sensitivity ###\n",
    "w_sense = CSV.read(\"data/weight-sense.csv\");\n",
    "w_sense = w_sense[:,2:4];\n",
    "n = nrow(w_sense);\n",
    "\n",
    "w_sense = convert(Matrix{Float64},w_sense)"
   ]
  },
  {
   "cell_type": "markdown",
   "metadata": {},
   "source": [
    "## Lexicographic model\n",
    "In the following section we present the Lexichographic model used in the experiment section in the paper.\n",
    "We init the model using the vOptGeneric framework."
   ]
  },
  {
   "cell_type": "code",
   "execution_count": 22,
   "metadata": {},
   "outputs": [],
   "source": [
    "m = vModel(solver = GLPKSolverMIP());"
   ]
  },
  {
   "cell_type": "markdown",
   "metadata": {},
   "source": [
    "We define the deviational variables and their conditions, namely:\n",
    "* dt are the deviations on tax minimization objective;\n",
    "* df are the deviations on transfer pricing objective;\n",
    "* dm are the deviations on management objective."
   ]
  },
  {
   "cell_type": "code",
   "execution_count": 23,
   "metadata": {},
   "outputs": [],
   "source": [
    "@variables m begin #init the deviational variables\n",
    "    dt[1:1,1:2] >= 0\n",
    "    df[1:q,1:2] >= 0\n",
    "    dm[1:q,1:2] >= 0\n",
    "end"
   ]
  },
  {
   "cell_type": "code",
   "execution_count": 24,
   "metadata": {},
   "outputs": [],
   "source": [
    "@variable(m, x[1:q] >= 0); #init the decision variable"
   ]
  },
  {
   "cell_type": "code",
   "execution_count": 25,
   "metadata": {},
   "outputs": [],
   "source": [
    "@addobjective(m, Min,sum(dt./tgoal));\n",
    "@addobjective(m, Min,sum(df./mq));\n",
    "@addobjective(m, Min,sum(dm./mgoal));"
   ]
  },
  {
   "cell_type": "code",
   "execution_count": 26,
   "metadata": {},
   "outputs": [],
   "source": [
    "#Soft constraints\n",
    "@constraint(m, N*(sum(x.*tax)) - dt[1,1] == tgoal); #tax minimization goal\n",
    "@constraint(m, (N.*(x./base)) + ((df.* transpose([-1,1]))*[1,1]).== mq); #median seeker\n",
    "@constraint(m, x + ((dm.* transpose([-1,1]))*[1,1]) .== mgoal); #management's goal"
   ]
  },
  {
   "cell_type": "code",
   "execution_count": 27,
   "metadata": {},
   "outputs": [],
   "source": [
    "#Hard constraints\n",
    "@constraint(m, N.*(x./base) .>= lq); #lower quartile constraints\n",
    "@constraint(m, N.*(x./base) .<= uq); #upper quartile constraints"
   ]
  },
  {
   "cell_type": "code",
   "execution_count": 28,
   "metadata": {},
   "outputs": [],
   "source": [
    "@constraint(m, sum((vcost + fcost./N + ((x).*(ones(3)+tax))).*(ones(3)+duties)) >= P); #final price condition\n",
    "@constraint(m, sum((vcost + fcost./N + ((x).*(ones(3)+tax))).*(ones(3)+duties)) <= P + δ);"
   ]
  },
  {
   "cell_type": "markdown",
   "metadata": {},
   "source": [
    "The model writes as (the objective printing is bugged in vOptGeneric)"
   ]
  },
  {
   "cell_type": "code",
   "execution_count": 29,
   "metadata": {},
   "outputs": [
    {
     "data": {
      "text/latex": [
       "$$ \\begin{alignat*}{1}\\min\\quad & 0\\\\\n",
       "\\text{Subject to} \\quad & 250000 x_{1} + 300000 x_{2} + 125000 x_{3} - dt_{1,1} = 464723\\\\\n",
       " & 0.0407136284799974 x_{1} - df_{1,1} + df_{1,2} = 0.08\\\\\n",
       " & 0.016339869281045753 x_{2} - df_{2,1} + df_{2,2} = 0.02\\\\\n",
       " & 0.014795088030773784 x_{3} - df_{3,1} + df_{3,2} = 0.07\\\\\n",
       " & x_{1} - dm_{1,1} + dm_{1,2} = 3.2\\\\\n",
       " & x_{2} - dm_{2,1} + dm_{2,2} = 2.8\\\\\n",
       " & x_{3} - dm_{3,1} + dm_{3,2} = 5.1\\\\\n",
       " & 0.0407136284799974 x_{1} \\geq 0.04\\\\\n",
       " & 0.016339869281045753 x_{2} \\geq 0.01\\\\\n",
       " & 0.014795088030773784 x_{3} \\geq 0.02\\\\\n",
       " & 0.0407136284799974 x_{1} \\leq 0.14\\\\\n",
       " & 0.016339869281045753 x_{2} \\leq 0.05\\\\\n",
       " & 0.014795088030773784 x_{3} \\leq 0.14\\\\\n",
       " & 1.4375 x_{1} + 1.3 x_{2} + 1.125 x_{3} \\geq 4.6472300000000075\\\\\n",
       " & 1.4375 x_{1} + 1.3 x_{2} + 1.125 x_{3} \\leq 7.1472300000000075\\\\\n",
       " & dt_{i,j} \\geq 0 \\quad\\forall i \\in \\{1\\}, j \\in \\{1,2\\}\\\\\n",
       " & df_{i,j} \\geq 0 \\quad\\forall i \\in \\{1,2,3\\}, j \\in \\{1,2\\}\\\\\n",
       " & dm_{i,j} \\geq 0 \\quad\\forall i \\in \\{1,2,3\\}, j \\in \\{1,2\\}\\\\\n",
       " & x_{i} \\geq 0 \\quad\\forall i \\in \\{1,2,3\\}\\\\\n",
       "\\end{alignat*}\n",
       " $$"
      ],
      "text/plain": [
       "Feasibility problem with:\n",
       " * 15 linear constraints\n",
       " * 17 variables\n",
       "Solver is GLPKMathProgInterface.GLPKInterfaceMIP.GLPK"
      ]
     },
     "execution_count": 29,
     "metadata": {},
     "output_type": "execute_result"
    }
   ],
   "source": [
    "m"
   ]
  },
  {
   "cell_type": "code",
   "execution_count": 30,
   "metadata": {},
   "outputs": [
    {
     "name": "stdout",
     "output_type": "stream",
     "text": [
      "solving for objectives [1, 2, 3]\n",
      "solving for objectives [1, 3, 2]\n",
      "solving for objectives [2, 1, 3]\n",
      "solving for objectives [2, 3, 1]\n",
      "solving for objectives [3, 1, 2]\n",
      "solving for objectives [3, 2, 1]\n"
     ]
    },
    {
     "data": {
      "text/plain": [
       ":Optimal"
      ]
     },
     "execution_count": 30,
     "metadata": {},
     "output_type": "execute_result"
    }
   ],
   "source": [
    "solve( m, method = :lex)"
   ]
  },
  {
   "cell_type": "code",
   "execution_count": 31,
   "metadata": {},
   "outputs": [
    {
     "name": "stdout",
     "output_type": "stream",
     "text": [
      "[0.506821, 1.54171, 3.95075] : dt[1,1]=235531.27777777857 df[1,2]=0.04 df[2,2]=0.010000000000000005 df[3,2]=0.037919955285956077 dm[1,1]=0.9824719999999998 dm[1,2]=3.2 dm[2,1]=0.612 dm[2,2]=2.8 dm[3,1]=2.168290222222229 dm[3,2]=5.1 x[1]=0.9824719999999999 x[2]=0.6119999999999998 x[3]=2.168290222222229 \n",
      "[1.50026, 0.486837, 2.34703] : dt[1,1]=697204.1728536466 df[2,2]=2.8528445241156354e-8 df[3,2]=0.03407850905330359 dm[1,2]=1.2350560000000004 dm[2,1]=1.223998254059151 dm[2,2]=2.8 dm[3,2]=2.6720664269127896 x[1]=1.9649439999999998 x[2]=1.223998254059151 x[3]=2.42793357308721 \n"
     ]
    }
   ],
   "source": [
    "printX_E(m)"
   ]
  },
  {
   "cell_type": "code",
   "execution_count": 32,
   "metadata": {},
   "outputs": [
    {
     "data": {
      "text/plain": [
       "3-element Array{Float64,1}:\n",
       " 0.9824719999999999\n",
       " 0.6119999999999998\n",
       " 2.168290222222229 "
      ]
     },
     "execution_count": 32,
     "metadata": {},
     "output_type": "execute_result"
    }
   ],
   "source": [
    "vOptGeneric.getvalue(x,1)"
   ]
  },
  {
   "cell_type": "markdown",
   "metadata": {},
   "source": [
    "## Weighted GP not robust\n",
    "In the following section we present the non robust model used in the experiment section in the paper."
   ]
  },
  {
   "cell_type": "code",
   "execution_count": 33,
   "metadata": {},
   "outputs": [],
   "source": [
    "w = (0.25,0.5,0.25); #weight vector"
   ]
  },
  {
   "cell_type": "code",
   "execution_count": 34,
   "metadata": {},
   "outputs": [],
   "source": [
    "m = Model(solver = ClpSolver());"
   ]
  },
  {
   "cell_type": "code",
   "execution_count": 35,
   "metadata": {},
   "outputs": [],
   "source": [
    "@variables m begin #init the deviational variables\n",
    "    dt[1:1,1:2] >= 0\n",
    "    df[1:q,1:2] >= 0\n",
    "    dm[1:q,1:2] >= 0\n",
    "end"
   ]
  },
  {
   "cell_type": "code",
   "execution_count": 36,
   "metadata": {},
   "outputs": [],
   "source": [
    "@variable(m, x[1:q] >= 0); #init the decision variable"
   ]
  },
  {
   "cell_type": "code",
   "execution_count": 37,
   "metadata": {},
   "outputs": [],
   "source": [
    "@objective(m, Min, (w[1]*sum(dt./tgoal)\n",
    "           + w[2]*sum(df./mq)\n",
    "           + w[3]*sum(dm./mgoal)\n",
    "           )); #obj function"
   ]
  },
  {
   "cell_type": "code",
   "execution_count": 38,
   "metadata": {},
   "outputs": [],
   "source": [
    "#Soft constraints\n",
    "@constraint(m, N*(sum(x.*tax)) - dt[1,1] == tgoal); #tax minimization goal\n",
    "@constraint(m, (N.*(x./base)) + ((df.* transpose([-1,1]))*[1,1]).== mq); #median seeker\n",
    "@constraint(m, x + ((dm.* transpose([-1,1]))*[1,1]) .== mgoal); #management's goal"
   ]
  },
  {
   "cell_type": "code",
   "execution_count": 39,
   "metadata": {},
   "outputs": [],
   "source": [
    "#Hard constraints\n",
    "@constraint(m, N.*(x./base) .>= lq); #lower quartile constraints\n",
    "@constraint(m, N.*(x./base) .<= uq); #upper quartile constraints"
   ]
  },
  {
   "cell_type": "code",
   "execution_count": 40,
   "metadata": {},
   "outputs": [],
   "source": [
    "@constraint(m, sum((vcost + fcost./N + ((x).*(ones(3)+tax))).*(ones(3)+duties)) >= P); #final price condition\n",
    "@constraint(m, sum((vcost + fcost./N + ((x).*(ones(3)+tax))).*(ones(3)+duties)) <= P + δ);"
   ]
  },
  {
   "cell_type": "code",
   "execution_count": 41,
   "metadata": {},
   "outputs": [
    {
     "data": {
      "text/latex": [
       "$$ \\begin{alignat*}{1}\\min\\quad & 5.379548677384163e-7 dt_{1,1} + 5.379548677384163e-7 dt_{1,2} + 6.25 df_{1,1} + 25 df_{2,1} + 7.142857142857142 df_{3,1} + 6.25 df_{1,2} + 25 df_{2,2} + 7.142857142857142 df_{3,2} + 0.078125 dm_{1,1} + 0.08928571428571429 dm_{2,1} + 0.04901960784313726 dm_{3,1} + 0.078125 dm_{1,2} + 0.08928571428571429 dm_{2,2} + 0.04901960784313726 dm_{3,2}\\\\\n",
       "\\text{Subject to} \\quad & 250000 x_{1} + 300000 x_{2} + 125000 x_{3} - dt_{1,1} = 464723\\\\\n",
       " & 0.0407136284799974 x_{1} - df_{1,1} + df_{1,2} = 0.08\\\\\n",
       " & 0.016339869281045753 x_{2} - df_{2,1} + df_{2,2} = 0.02\\\\\n",
       " & 0.014795088030773784 x_{3} - df_{3,1} + df_{3,2} = 0.07\\\\\n",
       " & x_{1} - dm_{1,1} + dm_{1,2} = 3.2\\\\\n",
       " & x_{2} - dm_{2,1} + dm_{2,2} = 2.8\\\\\n",
       " & x_{3} - dm_{3,1} + dm_{3,2} = 5.1\\\\\n",
       " & 0.0407136284799974 x_{1} \\geq 0.04\\\\\n",
       " & 0.016339869281045753 x_{2} \\geq 0.01\\\\\n",
       " & 0.014795088030773784 x_{3} \\geq 0.02\\\\\n",
       " & 0.0407136284799974 x_{1} \\leq 0.14\\\\\n",
       " & 0.016339869281045753 x_{2} \\leq 0.05\\\\\n",
       " & 0.014795088030773784 x_{3} \\leq 0.14\\\\\n",
       " & 1.4375 x_{1} + 1.3 x_{2} + 1.125 x_{3} \\geq 4.6472300000000075\\\\\n",
       " & 1.4375 x_{1} + 1.3 x_{2} + 1.125 x_{3} \\leq 7.1472300000000075\\\\\n",
       " & dt_{i,j} \\geq 0 \\quad\\forall i \\in \\{1\\}, j \\in \\{1,2\\}\\\\\n",
       " & df_{i,j} \\geq 0 \\quad\\forall i \\in \\{1,2,3\\}, j \\in \\{1,2\\}\\\\\n",
       " & dm_{i,j} \\geq 0 \\quad\\forall i \\in \\{1,2,3\\}, j \\in \\{1,2\\}\\\\\n",
       " & x_{i} \\geq 0 \\quad\\forall i \\in \\{1,2,3\\}\\\\\n",
       "\\end{alignat*}\n",
       " $$"
      ],
      "text/plain": [
       "Minimization problem with:\n",
       " * 15 linear constraints\n",
       " * 17 variables\n",
       "Solver is Clp"
      ]
     },
     "execution_count": 41,
     "metadata": {},
     "output_type": "execute_result"
    }
   ],
   "source": [
    "m"
   ]
  },
  {
   "cell_type": "code",
   "execution_count": 42,
   "metadata": {},
   "outputs": [
    {
     "data": {
      "text/plain": [
       ":Optimal"
      ]
     },
     "execution_count": 42,
     "metadata": {},
     "output_type": "execute_result"
    }
   ],
   "source": [
    "status = solve(m)"
   ]
  },
  {
   "cell_type": "code",
   "execution_count": 43,
   "metadata": {},
   "outputs": [
    {
     "name": "stdout",
     "output_type": "stream",
     "text": [
      "[1.96494, 1.224, 2.42793]"
     ]
    }
   ],
   "source": [
    "solution=JuMP.getvalue(x);\n",
    "print(solution)"
   ]
  },
  {
   "cell_type": "markdown",
   "metadata": {},
   "source": [
    "## Robust Weighted GP\n",
    "In the following section we present the robust model used in the experiment section in the paper."
   ]
  },
  {
   "cell_type": "code",
   "execution_count": 169,
   "metadata": {},
   "outputs": [],
   "source": [
    "w = (0.25,0.5,0.25); #weight vector\n",
    "ρ = (3.0,3.0,3.0); #robustness vector"
   ]
  },
  {
   "cell_type": "code",
   "execution_count": 170,
   "metadata": {},
   "outputs": [],
   "source": [
    "m = Model(solver = ClpSolver());"
   ]
  },
  {
   "cell_type": "code",
   "execution_count": 171,
   "metadata": {},
   "outputs": [],
   "source": [
    "@variables m begin #init the variables\n",
    "    dt[1:1,1:2] >= 0\n",
    "    df[1:q,1:2] >= 0\n",
    "    dm[1:q,1:2] >= 0\n",
    "    π[1:q,1:2] >= 0\n",
    "    ζ[1:2] >= 0\n",
    "    x[1:q] >= 0\n",
    "end"
   ]
  },
  {
   "cell_type": "code",
   "execution_count": 172,
   "metadata": {},
   "outputs": [],
   "source": [
    "@objective(m, Min, (w[1]*sum(dt./tgoal))\n",
    "           + (w[2]*sum(df./mq))\n",
    "           + (w[3]*sum(dm./mgoal))\n",
    "           ); #obj function"
   ]
  },
  {
   "cell_type": "code",
   "execution_count": 173,
   "metadata": {},
   "outputs": [],
   "source": [
    "@constraint(m, N*(sum(x.*tax)) + sum(π[:,1]) + (ρ[1]*ζ[1]) - dt[1,1] == tgoal); #obj 1\n",
    "\n",
    "@constraint(m, (N.*(x./base)) + ((df.* transpose([-1,1]))*[1,1]).== mq - ((θ[:,4]./q).*ρ[2])); #obj 2\n",
    "\n",
    "@constraint(m, x + ((dm.* transpose([-1,1]))*[1,1]) .== mgoal); #obj 3\n",
    "\n",
    "for i=1:q #create the robust constraint for obj 1 and con 1\n",
    "    @constraint(m,ζ[1]+π[i,1] >= θ[i,1]*x[i]);\n",
    "    @constraint(m,ζ[2]+π[i,2] >= θ[i,2]*x[i]);\n",
    "end\n",
    "\n",
    "for i=0:ρ[2] #create the robust constraint for obj 2\n",
    "    @constraint(m, N.*(x./base) .>= lq - ((θ[:,3]./q).*i));\n",
    "    @constraint(m, N.*(x./base) .<= uq - ((θ[:,5]./q).*i));\n",
    "end\n",
    "\n",
    "@constraint(m, sum((vcost + fcost./N + ((x).*(ones(3)+tax))).*(ones(3)+duties)) + sum(π[:,2]) + (ρ[3]*ζ[2]) >= P) #final price condition\n",
    "@constraint(m, sum((vcost + fcost./N + ((x).*(ones(3)+tax))).*(ones(3)+duties)) + sum(π[:,2]) + (ρ[3]*ζ[2]) <= P + δ);"
   ]
  },
  {
   "cell_type": "code",
   "execution_count": 174,
   "metadata": {},
   "outputs": [
    {
     "data": {
      "text/latex": [
       "$$ \\begin{alignat*}{1}\\min\\quad & 5.379548677384163e-7 dt_{1,1} + 5.379548677384163e-7 dt_{1,2} + 6.25 df_{1,1} + 25 df_{2,1} + 7.142857142857142 df_{3,1} + 6.25 df_{1,2} + 25 df_{2,2} + 7.142857142857142 df_{3,2} + 0.078125 dm_{1,1} + 0.08928571428571429 dm_{2,1} + 0.04901960784313726 dm_{3,1} + 0.078125 dm_{1,2} + 0.08928571428571429 dm_{2,2} + 0.04901960784313726 dm_{3,2}\\\\\n",
       "\\text{Subject to} \\quad & 250000 x_{1} + 300000 x_{2} + 125000 x_{3} + π_{1,1} + π_{2,1} + π_{3,1} + 3 ζ_{1} - dt_{1,1} = 464723\\\\\n",
       " & 0.0407136284799974 x_{1} - df_{1,1} + df_{1,2} = 0.068\\\\\n",
       " & 0.016339869281045753 x_{2} - df_{2,1} + df_{2,2} = 0.0176\\\\\n",
       " & 0.014795088030773784 x_{3} - df_{3,1} + df_{3,2} = 0.0553\\\\\n",
       " & x_{1} - dm_{1,1} + dm_{1,2} = 3.2\\\\\n",
       " & x_{2} - dm_{2,1} + dm_{2,2} = 2.8\\\\\n",
       " & x_{3} - dm_{3,1} + dm_{3,2} = 5.1\\\\\n",
       " & ζ_{1} + π_{1,1} - 0.0125 x_{1} \\geq 0\\\\\n",
       " & ζ_{2} + π_{1,2} - 0.075 x_{1} \\geq 0\\\\\n",
       " & ζ_{1} + π_{2,1} - 0.03 x_{2} \\geq 0\\\\\n",
       " & ζ_{2} + π_{2,2} \\geq 0\\\\\n",
       " & ζ_{1} + π_{3,1} - 0.025 x_{3} \\geq 0\\\\\n",
       " & ζ_{2} + π_{3,2} \\geq 0\\\\\n",
       " & 0.0407136284799974 x_{1} \\geq 0.04\\\\\n",
       " & 0.016339869281045753 x_{2} \\geq 0.01\\\\\n",
       " & 0.014795088030773784 x_{3} \\geq 0.02\\\\\n",
       " & 0.0407136284799974 x_{1} \\leq 0.14\\\\\n",
       " & 0.016339869281045753 x_{2} \\leq 0.05\\\\\n",
       " & 0.014795088030773784 x_{3} \\leq 0.14\\\\\n",
       " & 0.0407136284799974 x_{1} \\geq 0.038\\\\\n",
       " & 0.016339869281045753 x_{2} \\geq 0.009600000000000001\\\\\n",
       " & 0.014795088030773784 x_{3} \\geq 0.018600000000000002\\\\\n",
       " & 0.0407136284799974 x_{1} \\leq 0.133\\\\\n",
       " & 0.016339869281045753 x_{2} \\leq 0.048\\\\\n",
       " & 0.014795088030773784 x_{3} \\leq 0.1302\\\\\n",
       " & 0.0407136284799974 x_{1} \\geq 0.036000000000000004\\\\\n",
       " & 0.016339869281045753 x_{2} \\geq 0.0092\\\\\n",
       " & 0.014795088030773784 x_{3} \\geq 0.0172\\\\\n",
       " & 0.0407136284799974 x_{1} \\leq 0.126\\\\\n",
       " & 0.016339869281045753 x_{2} \\leq 0.046\\\\\n",
       " & 0.014795088030773784 x_{3} \\leq 0.12040000000000001\\\\\n",
       " & 0.0407136284799974 x_{1} \\geq 0.034\\\\\n",
       " & 0.016339869281045753 x_{2} \\geq 0.0088\\\\\n",
       " & 0.014795088030773784 x_{3} \\geq 0.0158\\\\\n",
       " & 0.0407136284799974 x_{1} \\leq 0.11900000000000001\\\\\n",
       " & 0.016339869281045753 x_{2} \\leq 0.044000000000000004\\\\\n",
       " & 0.014795088030773784 x_{3} \\leq 0.1106\\\\\n",
       " & 1.4375 x_{1} + 1.3 x_{2} + 1.125 x_{3} + π_{1,2} + π_{2,2} + π_{3,2} + 3 ζ_{2} \\geq 4.6472300000000075\\\\\n",
       " & 1.4375 x_{1} + 1.3 x_{2} + 1.125 x_{3} + π_{1,2} + π_{2,2} + π_{3,2} + 3 ζ_{2} \\leq 7.1472300000000075\\\\\n",
       " & dt_{i,j} \\geq 0 \\quad\\forall i \\in \\{1\\}, j \\in \\{1,2\\}\\\\\n",
       " & df_{i,j} \\geq 0 \\quad\\forall i \\in \\{1,2,3\\}, j \\in \\{1,2\\}\\\\\n",
       " & dm_{i,j} \\geq 0 \\quad\\forall i \\in \\{1,2,3\\}, j \\in \\{1,2\\}\\\\\n",
       " & π_{i,j} \\geq 0 \\quad\\forall i \\in \\{1,2,3\\}, j \\in \\{1,2\\}\\\\\n",
       " & ζ_{i} \\geq 0 \\quad\\forall i \\in \\{1,2\\}\\\\\n",
       " & x_{i} \\geq 0 \\quad\\forall i \\in \\{1,2,3\\}\\\\\n",
       "\\end{alignat*}\n",
       " $$"
      ],
      "text/plain": [
       "Minimization problem with:\n",
       " * 39 linear constraints\n",
       " * 25 variables\n",
       "Solver is Clp"
      ]
     },
     "execution_count": 174,
     "metadata": {},
     "output_type": "execute_result"
    }
   ],
   "source": [
    "m"
   ]
  },
  {
   "cell_type": "code",
   "execution_count": 175,
   "metadata": {},
   "outputs": [
    {
     "data": {
      "text/plain": [
       ":Optimal"
      ]
     },
     "execution_count": 175,
     "metadata": {},
     "output_type": "execute_result"
    }
   ],
   "source": [
    "status = solve(m)"
   ]
  },
  {
   "cell_type": "code",
   "execution_count": 176,
   "metadata": {},
   "outputs": [
    {
     "name": "stdout",
     "output_type": "stream",
     "text": [
      "[1.6702, 1.07712, 2.86293]"
     ]
    }
   ],
   "source": [
    "solution=JuMP.getvalue(x);\n",
    "print(solution)"
   ]
  },
  {
   "cell_type": "markdown",
   "metadata": {},
   "source": [
    "# Sensitivity analysis\n",
    "\n",
    "## Weight sensitivity analysis"
   ]
  },
  {
   "cell_type": "code",
   "execution_count": 52,
   "metadata": {},
   "outputs": [],
   "source": [
    "ρ = (3.0,3.0,3.0); #robustness vector"
   ]
  },
  {
   "cell_type": "code",
   "execution_count": 53,
   "metadata": {},
   "outputs": [],
   "source": [
    "n = length(w_sense[:,1])\n",
    "\n",
    "res = DataFrame(X1 = Float64[],X2 = Float64[],X3 = Float64[]);\n",
    "\n",
    "j = 1;\n",
    "\n",
    "for j = 1:n\n",
    "\n",
    "    m = Model(solver = ClpSolver());\n",
    "\n",
    "    @variables m begin #init the variables\n",
    "        dt[1:1,1:2] >= 0\n",
    "        df[1:q,1:2] >= 0\n",
    "        dm[1:q,1:2] >= 0\n",
    "        π[1:q,1:2] >= 0\n",
    "        ζ[1:2]>=0\n",
    "        x[1:q] >= 0\n",
    "    end\n",
    "\n",
    "    @objective(m, Min, (w_sense[j,1]*sum(dt./tgoal))\n",
    "               + (w_sense[j,2]*sum(df./mq))\n",
    "               + (w_sense[j,3]*sum(dm./mgoal))\n",
    "               ); #obj function\n",
    "\n",
    "\n",
    "    @constraint(m, N*(sum(x.*tax)) + sum(π[:,1]) + (ρ[1]*ζ[1]) - dt[1,1] == tgoal); #obj 1\n",
    "\n",
    "    @constraint(m, (N.*(x./base)) + ((df.* transpose([-1,1]))*[1,1]).== mq - ((θ[:,4]./q).*ρ[2])); #obj 2\n",
    "\n",
    "    @constraint(m, x + ((dm.* transpose([-1,1]))*[1,1]) .== mgoal); #obj 3\n",
    "\n",
    "    for i=1:q #create the robust constraint for obj 1 and con 1\n",
    "        @constraint(m,ζ[1]+π[i,1] >= θ[i,1]*x[i]);\n",
    "        @constraint(m,ζ[2]+π[i,2] >= θ[i,2]*x[i]);\n",
    "    end\n",
    "\n",
    "    for i=0:ρ[2] #create the robust constraint for obj 2\n",
    "        @constraint(m, N.*(x./base) .>= lq - ((θ[:,3]./q).*i));\n",
    "        @constraint(m, N.*(x./base) .<= uq - ((θ[:,5]./q).*i));\n",
    "    end\n",
    "\n",
    "    @constraint(m, sum((vcost + fcost./N + ((x).*(ones(3)+tax))).*(ones(3)+duties)) + sum(π[:,2]) + (ρ[3]*ζ[2]) >= P) #final price condition\n",
    "    @constraint(m, sum((vcost + fcost./N + ((x).*(ones(3)+tax))).*(ones(3)+duties)) + sum(π[:,2]) + (ρ[3]*ζ[2]) <= P + δ);\n",
    "\n",
    "    status = solve(m);\n",
    "\n",
    "    b = JuMP.getvalue(x);\n",
    "    pi = JuMP.getvalue(π);\n",
    "    z = JuMP.getvalue(ζ);\n",
    "\n",
    "    push!(res, JuMP.getvalue(x));\n",
    "\n",
    "end"
   ]
  },
  {
   "cell_type": "code",
   "execution_count": 54,
   "metadata": {},
   "outputs": [
    {
     "data": {
      "text/html": [
       "<table class=\"data-frame\"><thead><tr><th></th><th>X1</th><th>X2</th><th>X3</th></tr><tr><th></th><th>Float64</th><th>Float64</th><th>Float64</th></tr></thead><tbody><p>21 rows × 3 columns</p><tr><th>1</th><td>1.6702</td><td>1.07712</td><td>2.86293</td></tr><tr><th>2</th><td>1.6702</td><td>1.07712</td><td>2.86293</td></tr><tr><th>3</th><td>1.6702</td><td>1.07712</td><td>2.86293</td></tr><tr><th>4</th><td>0.982472</td><td>0.612</td><td>1.3518</td></tr><tr><th>5</th><td>0.982472</td><td>0.612</td><td>1.3518</td></tr><tr><th>6</th><td>0.982472</td><td>0.612</td><td>1.3518</td></tr><tr><th>7</th><td>0.982472</td><td>0.612</td><td>1.3518</td></tr><tr><th>8</th><td>0.982472</td><td>0.612</td><td>1.3518</td></tr><tr><th>9</th><td>0.982472</td><td>1.07712</td><td>3.73773</td></tr><tr><th>10</th><td>1.6702</td><td>1.07712</td><td>2.86293</td></tr><tr><th>11</th><td>1.6702</td><td>1.07712</td><td>2.86293</td></tr><tr><th>12</th><td>1.6702</td><td>1.07712</td><td>2.86293</td></tr><tr><th>13</th><td>1.6702</td><td>1.07712</td><td>2.86293</td></tr><tr><th>14</th><td>1.6702</td><td>1.07712</td><td>2.86293</td></tr><tr><th>15</th><td>0.982472</td><td>1.07712</td><td>1.3518</td></tr><tr><th>16</th><td>1.6702</td><td>1.07712</td><td>2.86293</td></tr><tr><th>17</th><td>1.6702</td><td>1.07712</td><td>2.86293</td></tr><tr><th>18</th><td>1.6702</td><td>1.07712</td><td>2.86293</td></tr><tr><th>19</th><td>1.6702</td><td>1.07712</td><td>2.86293</td></tr><tr><th>20</th><td>1.6702</td><td>1.07712</td><td>2.86293</td></tr><tr><th>21</th><td>1.4055</td><td>2.6928</td><td>1.3518</td></tr></tbody></table>"
      ],
      "text/latex": [
       "\\begin{tabular}{r|ccc}\n",
       "\t& X1 & X2 & X3\\\\\n",
       "\t\\hline\n",
       "\t& Float64 & Float64 & Float64\\\\\n",
       "\t\\hline\n",
       "\t1 & 1.6702 & 1.07712 & 2.86293 \\\\\n",
       "\t2 & 1.6702 & 1.07712 & 2.86293 \\\\\n",
       "\t3 & 1.6702 & 1.07712 & 2.86293 \\\\\n",
       "\t4 & 0.982472 & 0.612 & 1.3518 \\\\\n",
       "\t5 & 0.982472 & 0.612 & 1.3518 \\\\\n",
       "\t6 & 0.982472 & 0.612 & 1.3518 \\\\\n",
       "\t7 & 0.982472 & 0.612 & 1.3518 \\\\\n",
       "\t8 & 0.982472 & 0.612 & 1.3518 \\\\\n",
       "\t9 & 0.982472 & 1.07712 & 3.73773 \\\\\n",
       "\t10 & 1.6702 & 1.07712 & 2.86293 \\\\\n",
       "\t11 & 1.6702 & 1.07712 & 2.86293 \\\\\n",
       "\t12 & 1.6702 & 1.07712 & 2.86293 \\\\\n",
       "\t13 & 1.6702 & 1.07712 & 2.86293 \\\\\n",
       "\t14 & 1.6702 & 1.07712 & 2.86293 \\\\\n",
       "\t15 & 0.982472 & 1.07712 & 1.3518 \\\\\n",
       "\t16 & 1.6702 & 1.07712 & 2.86293 \\\\\n",
       "\t17 & 1.6702 & 1.07712 & 2.86293 \\\\\n",
       "\t18 & 1.6702 & 1.07712 & 2.86293 \\\\\n",
       "\t19 & 1.6702 & 1.07712 & 2.86293 \\\\\n",
       "\t20 & 1.6702 & 1.07712 & 2.86293 \\\\\n",
       "\t21 & 1.4055 & 2.6928 & 1.3518 \\\\\n",
       "\\end{tabular}\n"
      ],
      "text/plain": [
       "21×3 DataFrame\n",
       "│ Row │ X1       │ X2      │ X3      │\n",
       "│     │ \u001b[90mFloat64\u001b[39m  │ \u001b[90mFloat64\u001b[39m │ \u001b[90mFloat64\u001b[39m │\n",
       "├─────┼──────────┼─────────┼─────────┤\n",
       "│ 1   │ 1.6702   │ 1.07712 │ 2.86293 │\n",
       "│ 2   │ 1.6702   │ 1.07712 │ 2.86293 │\n",
       "│ 3   │ 1.6702   │ 1.07712 │ 2.86293 │\n",
       "│ 4   │ 0.982472 │ 0.612   │ 1.3518  │\n",
       "│ 5   │ 0.982472 │ 0.612   │ 1.3518  │\n",
       "│ 6   │ 0.982472 │ 0.612   │ 1.3518  │\n",
       "│ 7   │ 0.982472 │ 0.612   │ 1.3518  │\n",
       "│ 8   │ 0.982472 │ 0.612   │ 1.3518  │\n",
       "│ 9   │ 0.982472 │ 1.07712 │ 3.73773 │\n",
       "│ 10  │ 1.6702   │ 1.07712 │ 2.86293 │\n",
       "│ 11  │ 1.6702   │ 1.07712 │ 2.86293 │\n",
       "│ 12  │ 1.6702   │ 1.07712 │ 2.86293 │\n",
       "│ 13  │ 1.6702   │ 1.07712 │ 2.86293 │\n",
       "│ 14  │ 1.6702   │ 1.07712 │ 2.86293 │\n",
       "│ 15  │ 0.982472 │ 1.07712 │ 1.3518  │\n",
       "│ 16  │ 1.6702   │ 1.07712 │ 2.86293 │\n",
       "│ 17  │ 1.6702   │ 1.07712 │ 2.86293 │\n",
       "│ 18  │ 1.6702   │ 1.07712 │ 2.86293 │\n",
       "│ 19  │ 1.6702   │ 1.07712 │ 2.86293 │\n",
       "│ 20  │ 1.6702   │ 1.07712 │ 2.86293 │\n",
       "│ 21  │ 1.4055   │ 2.6928  │ 1.3518  │"
      ]
     },
     "execution_count": 54,
     "metadata": {},
     "output_type": "execute_result"
    }
   ],
   "source": [
    "res"
   ]
  },
  {
   "cell_type": "code",
   "execution_count": 55,
   "metadata": {},
   "outputs": [
    {
     "name": "stderr",
     "output_type": "stream",
     "text": [
      "┌ Warning: `getindex(df::DataFrame, col_ind::ColumnIndex)` is deprecated, use `df[!, col_ind]` instead.\n",
      "│   caller = sexp(::Type{RCall.RClass{:list}}, ::DataFrame) at dataframe.jl:25\n",
      "└ @ RCall /home/mrepetto94/.julia/packages/RCall/iojZI/src/convert/dataframe.jl:25\n",
      "┌ Warning: RCall.jl: Carico il pacchetto richiesto: ggplot2\n",
      "│ Registered S3 methods overwritten by 'ggtern':\n",
      "│   method           from   \n",
      "│   +.gg             ggplot2\n",
      "│   grid.draw.ggplot ggplot2\n",
      "│   plot.ggplot      ggplot2\n",
      "│   print.ggplot     ggplot2\n",
      "│ --\n",
      "│ Remember to cite, run citation(package = 'ggtern') for further info.\n",
      "│ --\n",
      "│ \n",
      "│ Attaching package: ‘ggtern’\n",
      "│ \n",
      "│ The following objects are masked from ‘package:ggplot2’:\n",
      "│ \n",
      "│     %+%, aes, annotate, calc_element, ggplot, ggplot_build,\n",
      "│     ggplot_gtable, ggplotGrob, ggsave, layer_data, theme, theme_bw,\n",
      "│     theme_classic, theme_dark, theme_gray, theme_light, theme_linedraw,\n",
      "│     theme_minimal, theme_void\n",
      "│ \n",
      "└ @ RCall /home/mrepetto94/.julia/packages/RCall/iojZI/src/io.jl:113\n"
     ]
    },
    {
     "data": {
      "image/png": "[encoded data removed]"
     },
     "metadata": {},
     "output_type": "display_data"
    },
    {
     "data": {
      "text/plain": [
       "RObject{VecSxp}\n"
      ]
     },
     "execution_count": 55,
     "metadata": {},
     "output_type": "execute_result"
    }
   ],
   "source": [
    "R\"library(ggtern)\n",
    "\n",
    "central = seq(0, 1, length.out=7)\n",
    "sides = (1 - central)/2\n",
    "\n",
    "w1 = c(central,sides,sides)\n",
    "w2 = c(sides,central,sides)\n",
    "w3 = c(sides,sides,central)\n",
    "\n",
    "obj = apply($res, 1, sum)\n",
    "\n",
    "df = data.frame(w1,w2,w3, obj)\n",
    "\n",
    "ggtern(data = df, aes(x=w1,y=w2,z=w3, size=obj)) + \n",
    "    geom_point() + \n",
    "    theme_showarrows() + \n",
    "    theme(text= element_text(size=15, family=\\\"LM Roman 10\\\")) + \n",
    "    scale_size_continuous(name=\\\"Objective\\\")\n",
    "\""
   ]
  },
  {
   "cell_type": "markdown",
   "metadata": {},
   "source": [
    "## Robust sensitivity analysis"
   ]
  },
  {
   "cell_type": "code",
   "execution_count": 56,
   "metadata": {},
   "outputs": [],
   "source": [
    "w = (0.25,0.5,0.25); #weight vector"
   ]
  },
  {
   "cell_type": "code",
   "execution_count": 57,
   "metadata": {},
   "outputs": [],
   "source": [
    "n = length(rhocb[:,1])\n",
    "\n",
    "res = DataFrame(X1 = Float64[],X2 = Float64[],X3 = Float64[]);\n",
    "\n",
    "j = 1;\n",
    "\n",
    "for j = 1:n\n",
    "\n",
    "    m = Model(solver = ClpSolver());\n",
    "\n",
    "    @variables m begin #init the variables\n",
    "        dt[1:1,1:2] >= 0\n",
    "        df[1:q,1:2] >= 0\n",
    "        dm[1:q,1:2] >= 0\n",
    "        π[1:q,1:2] >= 0\n",
    "        ζ[1:2]>=0\n",
    "        x[1:q] >= 0\n",
    "    end\n",
    "\n",
    "    @objective(m, Min, (w[1]*sum(dt./tgoal))\n",
    "               + (w[2]*sum(df./mq))\n",
    "               + (w[3]*sum(dm./mgoal))\n",
    "               ); #obj function\n",
    "\n",
    "\n",
    "    @constraint(m, N*(sum(x.*tax)) + sum(π[:,1]) + (rhocb[j,1]*ζ[1]) - dt[1,1] == tgoal); #obj 1\n",
    "\n",
    "    @constraint(m, (N.*(x./base)) + ((df.* transpose([-1,1]))*[1,1]).== mq - ((θ[:,4]./q).*rhocb[j,2])); #obj 2\n",
    "\n",
    "    @constraint(m, x + ((dm.* transpose([-1,1]))*[1,1]) .== mgoal); #obj 3\n",
    "\n",
    "    for i=1:q #create the robust constraint for obj 1 and con 1\n",
    "        @constraint(m,ζ[1]+π[i,1] >= θ[i,1]*x[i]);\n",
    "        @constraint(m,ζ[2]+π[i,2] >= θ[i,2]*x[i]);\n",
    "    end\n",
    "\n",
    "    for i=0:rhocb[j,2] #create the robust constraint for obj 2\n",
    "        @constraint(m, N.*(x./base) .>= lq - ((θ[:,3]./q).*i));\n",
    "        @constraint(m, N.*(x./base) .<= uq - ((θ[:,5]./q).*i));\n",
    "    end\n",
    "\n",
    "    @constraint(m, sum((vcost + fcost./N + ((x).*(ones(3)+tax))).*(ones(3)+duties)) + sum(π[:,2]) + (rhocb[j,3]*ζ[2]) >= P) #final price condition\n",
    "    @constraint(m, sum((vcost + fcost./N + ((x).*(ones(3)+tax))).*(ones(3)+duties)) + sum(π[:,2]) + (rhocb[j,3]*ζ[2]) <= P + δ);\n",
    "\n",
    "    status = solve(m);\n",
    "\n",
    "    b = JuMP.getvalue(x);\n",
    "    pi = JuMP.getvalue(π);\n",
    "    z = JuMP.getvalue(ζ);\n",
    "\n",
    "    push!(res, JuMP.getvalue(x));\n",
    "\n",
    "end"
   ]
  },
  {
   "cell_type": "code",
   "execution_count": 58,
   "metadata": {},
   "outputs": [
    {
     "data": {
      "text/html": [
       "<table class=\"data-frame\"><thead><tr><th></th><th>X1</th><th>X2</th><th>X3</th></tr><tr><th></th><th>Float64</th><th>Float64</th><th>Float64</th></tr></thead><tbody><p>64 rows × 3 columns</p><tr><th>1</th><td>1.96494</td><td>1.224</td><td>2.42793</td></tr><tr><th>2</th><td>1.96494</td><td>1.224</td><td>2.29694</td></tr><tr><th>3</th><td>1.96494</td><td>1.224</td><td>2.29694</td></tr><tr><th>4</th><td>1.96494</td><td>1.224</td><td>2.29694</td></tr><tr><th>5</th><td>1.8667</td><td>1.17504</td><td>2.61005</td></tr><tr><th>6</th><td>1.8667</td><td>1.17504</td><td>2.4856</td></tr><tr><th>7</th><td>1.8667</td><td>1.17504</td><td>2.4856</td></tr><tr><th>8</th><td>1.8667</td><td>1.17504</td><td>2.4856</td></tr><tr><th>9</th><td>1.76845</td><td>1.12608</td><td>2.79216</td></tr><tr><th>10</th><td>1.76845</td><td>1.12608</td><td>2.67426</td></tr><tr><th>11</th><td>1.76845</td><td>1.12608</td><td>2.67426</td></tr><tr><th>12</th><td>1.76845</td><td>1.12608</td><td>2.67426</td></tr><tr><th>13</th><td>1.6702</td><td>1.07712</td><td>2.97427</td></tr><tr><th>14</th><td>1.6702</td><td>1.07712</td><td>2.86293</td></tr><tr><th>15</th><td>1.6702</td><td>1.07712</td><td>2.86293</td></tr><tr><th>16</th><td>1.6702</td><td>1.07712</td><td>2.86293</td></tr><tr><th>17</th><td>1.96494</td><td>1.224</td><td>2.42793</td></tr><tr><th>18</th><td>1.96494</td><td>1.224</td><td>2.29694</td></tr><tr><th>19</th><td>1.96494</td><td>1.224</td><td>2.29694</td></tr><tr><th>20</th><td>1.96494</td><td>1.224</td><td>2.29694</td></tr><tr><th>21</th><td>1.8667</td><td>1.17504</td><td>2.61005</td></tr><tr><th>22</th><td>1.8667</td><td>1.17504</td><td>2.4856</td></tr><tr><th>23</th><td>1.8667</td><td>1.17504</td><td>2.4856</td></tr><tr><th>24</th><td>1.8667</td><td>1.17504</td><td>2.4856</td></tr><tr><th>25</th><td>1.76845</td><td>1.12608</td><td>2.79216</td></tr><tr><th>26</th><td>1.76845</td><td>1.12608</td><td>2.67426</td></tr><tr><th>27</th><td>1.76845</td><td>1.12608</td><td>2.67426</td></tr><tr><th>28</th><td>1.76845</td><td>1.12608</td><td>2.67426</td></tr><tr><th>29</th><td>1.6702</td><td>1.07712</td><td>2.97427</td></tr><tr><th>30</th><td>1.6702</td><td>1.07712</td><td>2.86293</td></tr><tr><th>&vellip;</th><td>&vellip;</td><td>&vellip;</td><td>&vellip;</td></tr></tbody></table>"
      ],
      "text/latex": [
       "\\begin{tabular}{r|ccc}\n",
       "\t& X1 & X2 & X3\\\\\n",
       "\t\\hline\n",
       "\t& Float64 & Float64 & Float64\\\\\n",
       "\t\\hline\n",
       "\t1 & 1.96494 & 1.224 & 2.42793 \\\\\n",
       "\t2 & 1.96494 & 1.224 & 2.29694 \\\\\n",
       "\t3 & 1.96494 & 1.224 & 2.29694 \\\\\n",
       "\t4 & 1.96494 & 1.224 & 2.29694 \\\\\n",
       "\t5 & 1.8667 & 1.17504 & 2.61005 \\\\\n",
       "\t6 & 1.8667 & 1.17504 & 2.4856 \\\\\n",
       "\t7 & 1.8667 & 1.17504 & 2.4856 \\\\\n",
       "\t8 & 1.8667 & 1.17504 & 2.4856 \\\\\n",
       "\t9 & 1.76845 & 1.12608 & 2.79216 \\\\\n",
       "\t10 & 1.76845 & 1.12608 & 2.67426 \\\\\n",
       "\t11 & 1.76845 & 1.12608 & 2.67426 \\\\\n",
       "\t12 & 1.76845 & 1.12608 & 2.67426 \\\\\n",
       "\t13 & 1.6702 & 1.07712 & 2.97427 \\\\\n",
       "\t14 & 1.6702 & 1.07712 & 2.86293 \\\\\n",
       "\t15 & 1.6702 & 1.07712 & 2.86293 \\\\\n",
       "\t16 & 1.6702 & 1.07712 & 2.86293 \\\\\n",
       "\t17 & 1.96494 & 1.224 & 2.42793 \\\\\n",
       "\t18 & 1.96494 & 1.224 & 2.29694 \\\\\n",
       "\t19 & 1.96494 & 1.224 & 2.29694 \\\\\n",
       "\t20 & 1.96494 & 1.224 & 2.29694 \\\\\n",
       "\t21 & 1.8667 & 1.17504 & 2.61005 \\\\\n",
       "\t22 & 1.8667 & 1.17504 & 2.4856 \\\\\n",
       "\t23 & 1.8667 & 1.17504 & 2.4856 \\\\\n",
       "\t24 & 1.8667 & 1.17504 & 2.4856 \\\\\n",
       "\t25 & 1.76845 & 1.12608 & 2.79216 \\\\\n",
       "\t26 & 1.76845 & 1.12608 & 2.67426 \\\\\n",
       "\t27 & 1.76845 & 1.12608 & 2.67426 \\\\\n",
       "\t28 & 1.76845 & 1.12608 & 2.67426 \\\\\n",
       "\t29 & 1.6702 & 1.07712 & 2.97427 \\\\\n",
       "\t30 & 1.6702 & 1.07712 & 2.86293 \\\\\n",
       "\t$\\dots$ & $\\dots$ & $\\dots$ & $\\dots$ \\\\\n",
       "\\end{tabular}\n"
      ],
      "text/plain": [
       "64×3 DataFrame\n",
       "│ Row │ X1      │ X2      │ X3      │\n",
       "│     │ \u001b[90mFloat64\u001b[39m │ \u001b[90mFloat64\u001b[39m │ \u001b[90mFloat64\u001b[39m │\n",
       "├─────┼─────────┼─────────┼─────────┤\n",
       "│ 1   │ 1.96494 │ 1.224   │ 2.42793 │\n",
       "│ 2   │ 1.96494 │ 1.224   │ 2.29694 │\n",
       "│ 3   │ 1.96494 │ 1.224   │ 2.29694 │\n",
       "│ 4   │ 1.96494 │ 1.224   │ 2.29694 │\n",
       "│ 5   │ 1.8667  │ 1.17504 │ 2.61005 │\n",
       "│ 6   │ 1.8667  │ 1.17504 │ 2.4856  │\n",
       "│ 7   │ 1.8667  │ 1.17504 │ 2.4856  │\n",
       "│ 8   │ 1.8667  │ 1.17504 │ 2.4856  │\n",
       "│ 9   │ 1.76845 │ 1.12608 │ 2.79216 │\n",
       "│ 10  │ 1.76845 │ 1.12608 │ 2.67426 │\n",
       "⋮\n",
       "│ 54  │ 1.8667  │ 1.17504 │ 2.4856  │\n",
       "│ 55  │ 1.8667  │ 1.17504 │ 2.4856  │\n",
       "│ 56  │ 1.8667  │ 1.17504 │ 2.4856  │\n",
       "│ 57  │ 1.76845 │ 1.12608 │ 2.79216 │\n",
       "│ 58  │ 1.76845 │ 1.12608 │ 2.67426 │\n",
       "│ 59  │ 1.76845 │ 1.12608 │ 2.67426 │\n",
       "│ 60  │ 1.76845 │ 1.12608 │ 2.67426 │\n",
       "│ 61  │ 1.6702  │ 1.07712 │ 2.97427 │\n",
       "│ 62  │ 1.6702  │ 1.07712 │ 2.86293 │\n",
       "│ 63  │ 1.6702  │ 1.07712 │ 2.86293 │\n",
       "│ 64  │ 1.6702  │ 1.07712 │ 2.86293 │"
      ]
     },
     "execution_count": 58,
     "metadata": {},
     "output_type": "execute_result"
    }
   ],
   "source": [
    "res"
   ]
  },
  {
   "cell_type": "code",
   "execution_count": 92,
   "metadata": {},
   "outputs": [
    {
     "data": {
      "image/png": "[encoded data removed]"
     },
     "execution_count": 92,
     "metadata": {},
     "output_type": "execute_result"
    }
   ],
   "source": [
    "resu = convert(Matrix{Float64},res);\n",
    "df = convert(Matrix{Int},rhocb);\n",
    "\n",
    "sresu= sum(resu, dims=2);\n",
    "xs = [string(df[i,:]) for i = 1:64];\n",
    "\n",
    "Plots.plot(xs,sresu,xrotation=45,seriestype=:bar,dpi=300,ylims = (5.4,5.75),yaxis=(\"Sum of x\", font(7, \"serif\")), xaxis=(\"Rho permutations\", font(5, \"serif\")), palette = (:grays), lab = \"\", xticks = (1:64,xs), size = (1200,500),fmt = :png)"
   ]
  },
  {
   "cell_type": "markdown",
   "metadata": {},
   "source": [
    "# Robust Weight Goal Programming model with Satisfaction Function\n",
    "\n",
    "## Satisfaction function\n",
    "In the model we use a satisfaction function of the form:\n",
    "$$\n",
    "F(\\delta) = e^\\frac{-\\delta^2}{ 2 \\sigma^2}\n",
    "$$"
   ]
  },
  {
   "cell_type": "code",
   "execution_count": 297,
   "metadata": {
    "scrolled": true
   },
   "outputs": [
    {
     "data": {
      "image/png": "[encoded data removed]"
     },
     "execution_count": 297,
     "metadata": {},
     "output_type": "execute_result"
    }
   ],
   "source": [
    "f(x) = exp(-x^2/1^2)\n",
    "k(x) = exp(-x^2/2^2)\n",
    "z(x) = exp(-x^2/(0.5)^2)\n",
    "Plots.plot([f,k,z], 0, 3)"
   ]
  },
  {
   "cell_type": "code",
   "execution_count": 299,
   "metadata": {},
   "outputs": [],
   "source": [
    "w = (0.25,0.5,0.25); #weight vector\n",
    "ρ = (3.0,3.0,3.0); #robustness vector"
   ]
  },
  {
   "cell_type": "code",
   "execution_count": 286,
   "metadata": {},
   "outputs": [],
   "source": [
    "m = Model(solver = IpoptSolver());"
   ]
  },
  {
   "cell_type": "code",
   "execution_count": 287,
   "metadata": {},
   "outputs": [],
   "source": [
    "@variables m begin #init the variables\n",
    "    dt[1:1,1:2] >= 0\n",
    "    df[1:q,1:2] >= 0\n",
    "    dm[1:q,1:2] >= 0\n",
    "    π[1:q,1:2] >= 0\n",
    "    ζ[1:2] >= 0\n",
    "    x[1:q] >= 0\n",
    "end"
   ]
  },
  {
   "cell_type": "code",
   "execution_count": 288,
   "metadata": {},
   "outputs": [],
   "source": [
    "JuMP.register(m,:f, 1, f, autodiff=true)"
   ]
  },
  {
   "cell_type": "code",
   "execution_count": 300,
   "metadata": {},
   "outputs": [],
   "source": [
    "@NLobjective(m, Max, (w[1]*f(dt[1,1]/tgoal))\n",
    "           + (w[2]*f((df[1,1]+df[1,2])/mq[1] + (df[2,1]+df[2,2])/mq[2] + (df[3,1]+df[3,2])/mq[3]))\n",
    "           + (w[3]*f((dm[1,1]+dm[1,2])/mgoal[1] + (dm[2,1]+dm[2,1])/mgoal[2] +(dm[3,1]+dm[3,2])/mgoal[3]))\n",
    "           ); #obj function"
   ]
  },
  {
   "cell_type": "code",
   "execution_count": 301,
   "metadata": {},
   "outputs": [],
   "source": [
    "@constraint(m, N*(sum(x.*tax)) + sum(π[:,1]) + (ρ[1]*ζ[1]) - dt[1,1] == tgoal); #obj 1\n",
    "\n",
    "@constraint(m, (N.*(x./base)) + ((df.* transpose([-1,1]))*[1,1]).== mq - ((θ[:,4]./q).*ρ[2])); #obj 2\n",
    "\n",
    "@constraint(m, x + ((dm.* transpose([-1,1]))*[1,1]) .== mgoal); #obj 3\n",
    "\n",
    "for i=1:q #create the robust constraint for obj 1 and con 1\n",
    "    @constraint(m,ζ[1]+π[i,1] >= θ[i,1]*x[i]);\n",
    "    @constraint(m,ζ[2]+π[i,2] >= θ[i,2]*x[i]);\n",
    "end\n",
    "\n",
    "for i=0:ρ[2] #create the robust constraint for obj 2\n",
    "    @constraint(m, N.*(x./base) .>= lq - ((θ[:,3]./q).*i));\n",
    "    @constraint(m, N.*(x./base) .<= uq - ((θ[:,5]./q).*i));\n",
    "end\n",
    "\n",
    "@constraint(m, sum((vcost + fcost./N + ((x).*(ones(3)+tax))).*(ones(3)+duties)) + sum(π[:,2]) + (ρ[3]*ζ[2]) >= P) #final price condition\n",
    "@constraint(m, sum((vcost + fcost./N + ((x).*(ones(3)+tax))).*(ones(3)+duties)) + sum(π[:,2]) + (ρ[3]*ζ[2]) <= P + δ);"
   ]
  },
  {
   "cell_type": "code",
   "execution_count": 302,
   "metadata": {},
   "outputs": [
    {
     "data": {
      "text/latex": [
       "$$ \\begin{alignat*}{1}\\max\\quad & 0.25 * f(dt_{1,1}) + 0.5 * f((df_{1,1} + df_{1,2}) + (df_{2,1} + df_{2,2}) + (df_{3,1} + df_{3,2})) + 0.25 * f((dm_{1,1} + dm_{1,2}) + (dm_{2,1} + dm_{2,1}) + (dm_{3,1} + dm_{3,2}))\\\\\n",
       "\\text{Subject to} \\quad & 250000 x_{1} + 300000 x_{2} + 125000 x_{3} + π_{1,1} + π_{2,1} + π_{3,1} + 3 ζ_{1} - dt_{1,1} = 464723\\\\\n",
       " & 0.0407136284799974 x_{1} - df_{1,1} + df_{1,2} = 0.068\\\\\n",
       " & 0.016339869281045753 x_{2} - df_{2,1} + df_{2,2} = 0.0176\\\\\n",
       " & 0.014795088030773784 x_{3} - df_{3,1} + df_{3,2} = 0.0553\\\\\n",
       " & x_{1} - dm_{1,1} + dm_{1,2} = 3.2\\\\\n",
       " & x_{2} - dm_{2,1} + dm_{2,2} = 2.8\\\\\n",
       " & x_{3} - dm_{3,1} + dm_{3,2} = 5.1\\\\\n",
       " & ζ_{1} + π_{1,1} - 0.0125 x_{1} \\geq 0\\\\\n",
       " & ζ_{2} + π_{1,2} - 0.075 x_{1} \\geq 0\\\\\n",
       " & ζ_{1} + π_{2,1} - 0.03 x_{2} \\geq 0\\\\\n",
       " & ζ_{2} + π_{2,2} \\geq 0\\\\\n",
       " & ζ_{1} + π_{3,1} - 0.025 x_{3} \\geq 0\\\\\n",
       " & ζ_{2} + π_{3,2} \\geq 0\\\\\n",
       " & 0.0407136284799974 x_{1} \\geq 0.04\\\\\n",
       " & 0.016339869281045753 x_{2} \\geq 0.01\\\\\n",
       " & 0.014795088030773784 x_{3} \\geq 0.02\\\\\n",
       " & 0.0407136284799974 x_{1} \\leq 0.14\\\\\n",
       " & 0.016339869281045753 x_{2} \\leq 0.05\\\\\n",
       " & 0.014795088030773784 x_{3} \\leq 0.14\\\\\n",
       " & 0.0407136284799974 x_{1} \\geq 0.038\\\\\n",
       " & 0.016339869281045753 x_{2} \\geq 0.009600000000000001\\\\\n",
       " & 0.014795088030773784 x_{3} \\geq 0.018600000000000002\\\\\n",
       " & 0.0407136284799974 x_{1} \\leq 0.133\\\\\n",
       " & 0.016339869281045753 x_{2} \\leq 0.048\\\\\n",
       " & 0.014795088030773784 x_{3} \\leq 0.1302\\\\\n",
       " & 0.0407136284799974 x_{1} \\geq 0.036000000000000004\\\\\n",
       " & 0.016339869281045753 x_{2} \\geq 0.0092\\\\\n",
       " & 0.014795088030773784 x_{3} \\geq 0.0172\\\\\n",
       " & 0.0407136284799974 x_{1} \\leq 0.126\\\\\n",
       " & 0.016339869281045753 x_{2} \\leq 0.046\\\\\n",
       " & 0.014795088030773784 x_{3} \\leq 0.12040000000000001\\\\\n",
       " & 0.0407136284799974 x_{1} \\geq 0.034\\\\\n",
       " & 0.016339869281045753 x_{2} \\geq 0.0088\\\\\n",
       " & 0.014795088030773784 x_{3} \\geq 0.0158\\\\\n",
       " & 0.0407136284799974 x_{1} \\leq 0.11900000000000001\\\\\n",
       " & 0.016339869281045753 x_{2} \\leq 0.044000000000000004\\\\\n",
       " & 0.014795088030773784 x_{3} \\leq 0.1106\\\\\n",
       " & 1.4375 x_{1} + 1.3 x_{2} + 1.125 x_{3} + π_{1,2} + π_{2,2} + π_{3,2} + 3 ζ_{2} \\geq 4.6472300000000075\\\\\n",
       " & 1.4375 x_{1} + 1.3 x_{2} + 1.125 x_{3} + π_{1,2} + π_{2,2} + π_{3,2} + 3 ζ_{2} \\leq 7.1472300000000075\\\\\n",
       " & 250000 x_{1} + 300000 x_{2} + 125000 x_{3} + π_{1,1} + π_{2,1} + π_{3,1} + 3 ζ_{1} - dt_{1,1} = 464723\\\\\n",
       " & 0.0407136284799974 x_{1} - df_{1,1} + df_{1,2} = 0.068\\\\\n",
       " & 0.016339869281045753 x_{2} - df_{2,1} + df_{2,2} = 0.0176\\\\\n",
       " & 0.014795088030773784 x_{3} - df_{3,1} + df_{3,2} = 0.0553\\\\\n",
       " & x_{1} - dm_{1,1} + dm_{1,2} = 3.2\\\\\n",
       " & x_{2} - dm_{2,1} + dm_{2,2} = 2.8\\\\\n",
       " & x_{3} - dm_{3,1} + dm_{3,2} = 5.1\\\\\n",
       " & ζ_{1} + π_{1,1} - 0.0125 x_{1} \\geq 0\\\\\n",
       " & ζ_{2} + π_{1,2} - 0.075 x_{1} \\geq 0\\\\\n",
       " & ζ_{1} + π_{2,1} - 0.03 x_{2} \\geq 0\\\\\n",
       " & ζ_{2} + π_{2,2} \\geq 0\\\\\n",
       " & ζ_{1} + π_{3,1} - 0.025 x_{3} \\geq 0\\\\\n",
       " & ζ_{2} + π_{3,2} \\geq 0\\\\\n",
       " & 0.0407136284799974 x_{1} \\geq 0.04\\\\\n",
       " & 0.016339869281045753 x_{2} \\geq 0.01\\\\\n",
       " & 0.014795088030773784 x_{3} \\geq 0.02\\\\\n",
       " & 0.0407136284799974 x_{1} \\leq 0.14\\\\\n",
       " & 0.016339869281045753 x_{2} \\leq 0.05\\\\\n",
       " & 0.014795088030773784 x_{3} \\leq 0.14\\\\\n",
       " & 0.0407136284799974 x_{1} \\geq 0.038\\\\\n",
       " & 0.016339869281045753 x_{2} \\geq 0.009600000000000001\\\\\n",
       " & 0.014795088030773784 x_{3} \\geq 0.018600000000000002\\\\\n",
       " & 0.0407136284799974 x_{1} \\leq 0.133\\\\\n",
       " & 0.016339869281045753 x_{2} \\leq 0.048\\\\\n",
       " & 0.014795088030773784 x_{3} \\leq 0.1302\\\\\n",
       " & 0.0407136284799974 x_{1} \\geq 0.036000000000000004\\\\\n",
       " & 0.016339869281045753 x_{2} \\geq 0.0092\\\\\n",
       " & 0.014795088030773784 x_{3} \\geq 0.0172\\\\\n",
       " & 0.0407136284799974 x_{1} \\leq 0.126\\\\\n",
       " & 0.016339869281045753 x_{2} \\leq 0.046\\\\\n",
       " & 0.014795088030773784 x_{3} \\leq 0.12040000000000001\\\\\n",
       " & 0.0407136284799974 x_{1} \\geq 0.034\\\\\n",
       " & 0.016339869281045753 x_{2} \\geq 0.0088\\\\\n",
       " & 0.014795088030773784 x_{3} \\geq 0.0158\\\\\n",
       " & 0.0407136284799974 x_{1} \\leq 0.11900000000000001\\\\\n",
       " & 0.016339869281045753 x_{2} \\leq 0.044000000000000004\\\\\n",
       " & 0.014795088030773784 x_{3} \\leq 0.1106\\\\\n",
       " & 1.4375 x_{1} + 1.3 x_{2} + 1.125 x_{3} + π_{1,2} + π_{2,2} + π_{3,2} + 3 ζ_{2} \\geq 4.6472300000000075\\\\\n",
       " & 1.4375 x_{1} + 1.3 x_{2} + 1.125 x_{3} + π_{1,2} + π_{2,2} + π_{3,2} + 3 ζ_{2} \\leq 7.1472300000000075\\\\\n",
       " & dt_{i,j} \\geq 0 \\quad\\forall i \\in \\{1\\}, j \\in \\{1,2\\}\\\\\n",
       " & df_{i,j} \\geq 0 \\quad\\forall i \\in \\{1,2,3\\}, j \\in \\{1,2\\}\\\\\n",
       " & dm_{i,j} \\geq 0 \\quad\\forall i \\in \\{1,2,3\\}, j \\in \\{1,2\\}\\\\\n",
       " & π_{i,j} \\geq 0 \\quad\\forall i \\in \\{1,2,3\\}, j \\in \\{1,2\\}\\\\\n",
       " & ζ_{i} \\geq 0 \\quad\\forall i \\in \\{1,2\\}\\\\\n",
       " & x_{i} \\geq 0 \\quad\\forall i \\in \\{1,2,3\\}\\\\\n",
       "\\end{alignat*}\n",
       " $$"
      ],
      "text/plain": [
       "Maximization problem with:\n",
       " * 78 linear constraints\n",
       " * 25 variables\n",
       "Solver is Ipopt"
      ]
     },
     "execution_count": 302,
     "metadata": {},
     "output_type": "execute_result"
    }
   ],
   "source": [
    "m"
   ]
  },
  {
   "cell_type": "code",
   "execution_count": 303,
   "metadata": {},
   "outputs": [
    {
     "data": {
      "text/plain": [
       ":Optimal"
      ]
     },
     "execution_count": 303,
     "metadata": {},
     "output_type": "execute_result"
    }
   ],
   "source": [
    "status = solve(m)"
   ]
  },
  {
   "cell_type": "code",
   "execution_count": 304,
   "metadata": {},
   "outputs": [
    {
     "name": "stdout",
     "output_type": "stream",
     "text": [
      "[1.36136, 1.04873, 1.97254]"
     ]
    }
   ],
   "source": [
    "solution=JuMP.getvalue(x);\n",
    "print(solution)"
   ]
  }
 ],
 "metadata": {
  "@webio": {
   "lastCommId": null,
   "lastKernelId": null
  },
  "kernelspec": {
   "display_name": "Julia 1.1.0",
   "language": "julia",
   "name": "julia-1.1"
  },
  "language_info": {
   "file_extension": ".jl",
   "mimetype": "application/julia",
   "name": "julia",
   "version": "1.1.0"
  }
 },
 "nbformat": 4,
 "nbformat_minor": 4
}
